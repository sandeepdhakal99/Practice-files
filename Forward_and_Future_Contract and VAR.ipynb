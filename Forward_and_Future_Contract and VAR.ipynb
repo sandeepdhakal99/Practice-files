{
  "nbformat": 4,
  "nbformat_minor": 0,
  "metadata": {
    "colab": {
      "name": "Forward and Future Contract",
      "provenance": [],
      "collapsed_sections": [],
      "authorship_tag": "ABX9TyP+7nKP9SrXx4crTEPnmt4i",
      "include_colab_link": true
    },
    "kernelspec": {
      "name": "python3",
      "display_name": "Python 3"
    },
    "language_info": {
      "name": "python"
    }
  },
  "cells": [
    {
      "cell_type": "markdown",
      "metadata": {
        "id": "view-in-github",
        "colab_type": "text"
      },
      "source": [
        "<a href=\"https://colab.research.google.com/github/sandeepdhakal99/Practice-files/blob/master/Forward_and_Future_Contract%20and%20VAR.ipynb\" target=\"_parent\"><img src=\"https://colab.research.google.com/assets/colab-badge.svg\" alt=\"Open In Colab\"/></a>"
      ]
    },
    {
      "cell_type": "code",
      "execution_count": null,
      "metadata": {
        "colab": {
          "base_uri": "https://localhost:8080/"
        },
        "id": "BSAawSi-qs48",
        "outputId": "2a02c9c6-ab64-4084-d216-459e0a7565d7"
      },
      "outputs": [
        {
          "output_type": "stream",
          "name": "stdout",
          "text": [
            "There will be profit of Rs 500000 from the 100 short position on given assest.\n"
          ]
        }
      ],
      "source": [
        "#Forward and Future Contract\n",
        "#Qno 1. Find a profit on 100 short contract with contract size of 500 kg with strike price of Rs 120 and market price of Rs 110.  \n",
        "k=120 # Strike Price\n",
        "s=110 # Market Price\n",
        "size=500 # Size of contract\n",
        "n=100 # No of contract\n",
        "ppu=k-s # Profit per unit\n",
        "tp=n*size*ppu # Total Profit\n",
        "print(\"There will be profit of Rs\",tp,\"from the 100 short position on given assest.\")"
      ]
    },
    {
      "cell_type": "code",
      "source": [
        "#Qno 2. Mr.A entered into 5 long contract with contract size of 500 kg and future price of Rs 120. The initial margin is 25% and maintenance margin is 75% of initial margin.\n",
        "#How much decline in price would result margin call and after how much increase in price could Mr. A withdraw profit of Rs 15000.  \n",
        "f=120 # Future Price\n",
        "cs=500 # Contract Size\n",
        "noc=5 # No of contract\n",
        "vooc=cs*f # Value of one contract\n",
        "im=0.25 # Initial Margin\n",
        "mm=0.75*im # Maintenance margin\n",
        "ima=im*vooc # Initial margin per contract\n",
        "mma=mm*vooc # Maintenance margin per contract\n",
        "mc=vooc*(im-mm)/cs # Required price decline for Margin call\n",
        "pw=15000/(cs*noc) # Required price increment for profit with drawl of Rs 15000\n",
        "print(\"The initial marin is Rs\",ima)\n",
        "print(\"The maintenance marin is Rs\",mma)\n",
        "print(\"If price declines by greater than Rs\",mc,\"there will be margin call\")\n",
        "print(\"If price increases by Rs \",pw,\"there will be profit withdrawl of Rs 15000\")"
      ],
      "metadata": {
        "colab": {
          "base_uri": "https://localhost:8080/"
        },
        "id": "ZKjfA2HgrCb-",
        "outputId": "d07b2d69-e431-4b2c-85c2-28c31ef6c62c"
      },
      "execution_count": null,
      "outputs": [
        {
          "output_type": "stream",
          "name": "stdout",
          "text": [
            "The initial marin is Rs 15000.0\n",
            "The maintenance marin is Rs 11250.0\n",
            "If price declines by greater than Rs 7.5 there will be margin call\n",
            "If price increases by Rs  6.0 there will be profit withdrawl of Rs 15000\n"
          ]
        }
      ]
    },
    {
      "cell_type": "code",
      "source": [
        "#Computation of optimal no of contract\n",
        "#Qno 3. The closing Nepse index for the month Jan 2022 to July 2022 were 2020, 2015, 2025, 2040, 2000 and 2025. And Closing price of SBL was 450, 460, 475, 390, 425 and 425 for the same period.\n",
        "#Calculate the minimum variance hedge ratio and optimal number of contract to hedge the exposure of Rs 10,00,000 investment on SBL. The size of one contract is Rs 50000.\n",
        "#Necessary Libraries\n",
        "import numpy as np\n",
        "import statistics as st\n",
        "#Given\n",
        "i=1000000 # Total Exposure\n",
        "cs=50000 # Size of Contract\n",
        "nepse=[2020, 2015, 2025, 2040, 2055, 2070] # Nepse Index Data\n",
        "sbl=[450, 460, 475, 480, 485, 500] # SBL Price Data\n",
        "#Formula\n",
        "σm=st.stdev(nepse) # Standard deviation of Nepse Index\n",
        "σs=st.stdev(sbl) # Standard deviation of SBL.\n",
        "r=np.corrcoef(nepse,sbl)[0][1] # Correlation coefficient\n",
        "beta=r*σs/σm # Minimum variance hedge ratio\n",
        "onoc=i*beta/cs # Optimal no of contract\n",
        "print(\"The correlation coefficient of nepse and sbl is\",round(r,2))\n",
        "print(\"The minimum variance hedge ratio is\", round(beta,2))\n",
        "print(\"The optimal number of contract is\", round(onoc,2))"
      ],
      "metadata": {
        "colab": {
          "base_uri": "https://localhost:8080/"
        },
        "id": "NHsVjd4jMzFz",
        "outputId": "689421ca-adbc-44fb-8e09-7aa28a2ad365"
      },
      "execution_count": null,
      "outputs": [
        {
          "output_type": "stream",
          "name": "stdout",
          "text": [
            "The correlation coefficient of nepse and sbl is 0.92\n",
            "The minimum variance hedge ratio is 0.76\n",
            "The optimal number of contract is 15.19\n"
          ]
        }
      ]
    },
    {
      "cell_type": "code",
      "source": [
        "#Value at Risk (VAR)\n",
        "#Mr Ram has a portfolio of Rs 1000000 with standard deviation of 2%. He wants to know maximum possible loss in 10 trading days.\n",
        "#Compute maximum loss that Mr. Ram can incur in 10 days at 95% confidence interval.\n",
        "# Necessary Libraries\n",
        "import math\n",
        "import scipy.stats as stats\n",
        "A=1000000 # Total Investment\n",
        "σ=0.02 # Portfolio Stanadard Deviation\n",
        "c=0.95 # Confidence Interval\n",
        "Z=1.96 # Z Score at 95%.\n",
        "t=10 # No of trading days.\n",
        "T=math.sqrt(t) # Square root of trading days.\n",
        "DL=σ*A # Daily Loss\n",
        "VAR=DL*Z*T # Maximum possible loss in 10 days.\n",
        "print(Z)\n",
        "print(T)\n",
        "print(\"The maximum possible loss in the period of 10 day is\",round(VAR,2))"
      ],
      "metadata": {
        "id": "z9XO2ZNefUG8",
        "colab": {
          "base_uri": "https://localhost:8080/"
        },
        "outputId": "c1eb2371-b5f9-4a42-c3dc-3180b000a55f"
      },
      "execution_count": null,
      "outputs": [
        {
          "output_type": "stream",
          "name": "stdout",
          "text": [
            "1.96\n",
            "3.1622776601683795\n",
            "The maximum possible loss in the period of 10 day is 123961.28\n"
          ]
        }
      ]
    },
    {
      "cell_type": "code",
      "source": [
        "#Portfolio Value at Risk (VAR)\n",
        "# Mr. Hari has two stocks that are Stock A and B. The investment amount are 10 lakhs and 15 lakhs respectively. The stdev are\n",
        "# 2% for both stock. Calculate VAR for 10 tradings days at 95% confidence interval.\n",
        "import math\n",
        "A=1000000 # Investment in Stock A\n",
        "B=1500000 # Investment in Stock B\n",
        "σ=0.02\n",
        "c=0.95 # Confidence interval\n",
        "r=0.67 # Correlation coefficient\n",
        "Z=1.96 # \n",
        "t=10 # Trading days\n",
        "LA=σ*A # Daily loss on Stock A\n",
        "LB=σ*B # Daily loss on stock B\n",
        "DL=math.sqrt(LA**2+LB**2+2*LA*LB*r) # Daily Portfolio Loss\n",
        "T=math.sqrt(t) # Square root of trading days\n",
        "VAR=DL*Z*T # Maximum possible loss (VAR)\n",
        "print(LA)\n",
        "print(LB)\n",
        "print(\"The maximum possible loss in the period of 10 day is\",round(VAR,2))"
      ],
      "metadata": {
        "colab": {
          "base_uri": "https://localhost:8080/"
        },
        "id": "fUB3epACC-Ru",
        "outputId": "a93c7005-0ac6-4110-d893-1fdf76ac47b5"
      },
      "execution_count": 1,
      "outputs": [
        {
          "output_type": "stream",
          "name": "stdout",
          "text": [
            "20000.0\n",
            "30000.0\n",
            "The maximum possible loss in the period of 10 day is 284301.36\n"
          ]
        }
      ]
    }
  ]
}